{
 "cells": [
  {
   "cell_type": "code",
   "execution_count": 3,
   "id": "7a6a4150-83b7-41b3-b721-a373ff1cd9ad",
   "metadata": {},
   "outputs": [],
   "source": [
    "# dataframe is more like a 2-dimension array\n",
    "import pandas as pd"
   ]
  },
  {
   "cell_type": "code",
   "execution_count": 5,
   "id": "c935ff6c-519b-4e71-a610-87a843842120",
   "metadata": {},
   "outputs": [
    {
     "data": {
      "text/html": [
       "<div>\n",
       "<style scoped>\n",
       "    .dataframe tbody tr th:only-of-type {\n",
       "        vertical-align: middle;\n",
       "    }\n",
       "\n",
       "    .dataframe tbody tr th {\n",
       "        vertical-align: top;\n",
       "    }\n",
       "\n",
       "    .dataframe thead th {\n",
       "        text-align: right;\n",
       "    }\n",
       "</style>\n",
       "<table border=\"1\" class=\"dataframe\">\n",
       "  <thead>\n",
       "    <tr style=\"text-align: right;\">\n",
       "      <th></th>\n",
       "      <th>Site</th>\n",
       "      <th>Age</th>\n",
       "    </tr>\n",
       "  </thead>\n",
       "  <tbody>\n",
       "    <tr>\n",
       "      <th>0</th>\n",
       "      <td>Google</td>\n",
       "      <td>10</td>\n",
       "    </tr>\n",
       "    <tr>\n",
       "      <th>1</th>\n",
       "      <td>Runoob</td>\n",
       "      <td>12</td>\n",
       "    </tr>\n",
       "    <tr>\n",
       "      <th>2</th>\n",
       "      <td>Wiki</td>\n",
       "      <td>20</td>\n",
       "    </tr>\n",
       "  </tbody>\n",
       "</table>\n",
       "</div>"
      ],
      "text/plain": [
       "     Site  Age\n",
       "0  Google   10\n",
       "1  Runoob   12\n",
       "2    Wiki   20"
      ]
     },
     "execution_count": 5,
     "metadata": {},
     "output_type": "execute_result"
    }
   ],
   "source": [
    "data = [['Google', 10], ['Runoob', 12], ['Wiki', 20]]\n",
    "df = pd.DataFrame(data, columns =['Site', 'Age'])\n",
    "df"
   ]
  },
  {
   "cell_type": "code",
   "execution_count": 7,
   "id": "000be8b3-2c8d-45d1-ab77-cd42dfe216a7",
   "metadata": {},
   "outputs": [
    {
     "data": {
      "text/html": [
       "<div>\n",
       "<style scoped>\n",
       "    .dataframe tbody tr th:only-of-type {\n",
       "        vertical-align: middle;\n",
       "    }\n",
       "\n",
       "    .dataframe tbody tr th {\n",
       "        vertical-align: top;\n",
       "    }\n",
       "\n",
       "    .dataframe thead th {\n",
       "        text-align: right;\n",
       "    }\n",
       "</style>\n",
       "<table border=\"1\" class=\"dataframe\">\n",
       "  <thead>\n",
       "    <tr style=\"text-align: right;\">\n",
       "      <th></th>\n",
       "      <th>Site</th>\n",
       "      <th>Age</th>\n",
       "    </tr>\n",
       "  </thead>\n",
       "  <tbody>\n",
       "    <tr>\n",
       "      <th>0</th>\n",
       "      <td>Google</td>\n",
       "      <td>10</td>\n",
       "    </tr>\n",
       "    <tr>\n",
       "      <th>1</th>\n",
       "      <td>Runoob</td>\n",
       "      <td>12</td>\n",
       "    </tr>\n",
       "    <tr>\n",
       "      <th>2</th>\n",
       "      <td>Wiki</td>\n",
       "      <td>20</td>\n",
       "    </tr>\n",
       "  </tbody>\n",
       "</table>\n",
       "</div>"
      ],
      "text/plain": [
       "     Site  Age\n",
       "0  Google   10\n",
       "1  Runoob   12\n",
       "2    Wiki   20"
      ]
     },
     "execution_count": 7,
     "metadata": {},
     "output_type": "execute_result"
    }
   ],
   "source": [
    "# 也能用字典来创建\n",
    "data = {'Site':['Google', 'Runoob', 'Wiki'], 'Age':[10, 12, 20]}\n",
    "df = pd.DataFrame(data)\n",
    "df"
   ]
  },
  {
   "cell_type": "code",
   "execution_count": 13,
   "id": "4dd8957a-b328-453d-8796-550314388ce9",
   "metadata": {},
   "outputs": [
    {
     "data": {
      "text/html": [
       "<div>\n",
       "<style scoped>\n",
       "    .dataframe tbody tr th:only-of-type {\n",
       "        vertical-align: middle;\n",
       "    }\n",
       "\n",
       "    .dataframe tbody tr th {\n",
       "        vertical-align: top;\n",
       "    }\n",
       "\n",
       "    .dataframe thead th {\n",
       "        text-align: right;\n",
       "    }\n",
       "</style>\n",
       "<table border=\"1\" class=\"dataframe\">\n",
       "  <thead>\n",
       "    <tr style=\"text-align: right;\">\n",
       "      <th></th>\n",
       "      <th>Site</th>\n",
       "      <th>Age</th>\n",
       "    </tr>\n",
       "  </thead>\n",
       "  <tbody>\n",
       "    <tr>\n",
       "      <th>0</th>\n",
       "      <td>Google</td>\n",
       "      <td>10</td>\n",
       "    </tr>\n",
       "    <tr>\n",
       "      <th>1</th>\n",
       "      <td>Runoob</td>\n",
       "      <td>12</td>\n",
       "    </tr>\n",
       "    <tr>\n",
       "      <th>2</th>\n",
       "      <td>Wiki</td>\n",
       "      <td>20</td>\n",
       "    </tr>\n",
       "  </tbody>\n",
       "</table>\n",
       "</div>"
      ],
      "text/plain": [
       "     Site Age\n",
       "0  Google  10\n",
       "1  Runoob  12\n",
       "2    Wiki  20"
      ]
     },
     "execution_count": 13,
     "metadata": {},
     "output_type": "execute_result"
    }
   ],
   "source": [
    "# 用ndarrays也能创建\n",
    "import numpy as np\n",
    "ndarrays_data = np.array([\n",
    "    ['Google', 10],\n",
    "    ['Runoob', 12],\n",
    "    ['Wiki', 20]\n",
    "])\n",
    "df = pd.DataFrame(ndarrays_data, columns = ['Site', 'Age'])\n",
    "df"
   ]
  },
  {
   "cell_type": "code",
   "execution_count": 17,
   "id": "df430360-3305-453b-b6e4-2fd4d7b54ff2",
   "metadata": {},
   "outputs": [
    {
     "data": {
      "text/plain": [
       "Site    Google\n",
       "Age         10\n",
       "Name: 0, dtype: object"
      ]
     },
     "execution_count": 17,
     "metadata": {},
     "output_type": "execute_result"
    }
   ],
   "source": [
    "# 用loc属性返回特定行的数据\n",
    "df.loc[0]"
   ]
  },
  {
   "cell_type": "code",
   "execution_count": 71,
   "id": "1f8eced0-2b3e-4053-bc75-addd64df5669",
   "metadata": {},
   "outputs": [
    {
     "name": "stdout",
     "output_type": "stream",
     "text": [
      "   calories  duration\n",
      "1       420        50\n",
      "2       380        40\n",
      "3       390        45\n",
      "calories    420\n",
      "duration     50\n",
      "Name: 1, dtype: int64\n"
     ]
    }
   ],
   "source": [
    "import pandas as pd\n",
    "\n",
    "data = {\n",
    "  \"calories\": [420, 380, 390],\n",
    "  \"duration\": [50, 40, 45]\n",
    "}\n",
    "\n",
    "# 数据载入到 DataFrame 对象\n",
    "df = pd.DataFrame(data, index=range(1, 4)) # 设置索引，从1开始计数\n",
    "print(df)\n",
    "print(df.loc[1]) #返回数据类型其实就是一个series"
   ]
  },
  {
   "cell_type": "code",
   "execution_count": 76,
   "id": "c076d4cd-3b15-4e7f-84a0-43641c3443c1",
   "metadata": {},
   "outputs": [
    {
     "name": "stdout",
     "output_type": "stream",
     "text": [
      "   calories  duration\n",
      "1       420        50\n",
      "2       380        40\n"
     ]
    }
   ],
   "source": [
    "# 可以返回多行数据\n",
    "print(df.loc[[1, 2]]) #返回值数据其实就是一个dataframe"
   ]
  },
  {
   "cell_type": "code",
   "execution_count": 80,
   "id": "b4fc0bcf-2fb5-4a3f-9d32-8838fddb97da",
   "metadata": {},
   "outputs": [
    {
     "data": {
      "text/html": [
       "<div>\n",
       "<style scoped>\n",
       "    .dataframe tbody tr th:only-of-type {\n",
       "        vertical-align: middle;\n",
       "    }\n",
       "\n",
       "    .dataframe tbody tr th {\n",
       "        vertical-align: top;\n",
       "    }\n",
       "\n",
       "    .dataframe thead th {\n",
       "        text-align: right;\n",
       "    }\n",
       "</style>\n",
       "<table border=\"1\" class=\"dataframe\">\n",
       "  <thead>\n",
       "    <tr style=\"text-align: right;\">\n",
       "      <th></th>\n",
       "      <th>Column1</th>\n",
       "      <th>Column2</th>\n",
       "      <th>Column3</th>\n",
       "    </tr>\n",
       "  </thead>\n",
       "  <tbody>\n",
       "    <tr>\n",
       "      <th>0</th>\n",
       "      <td>1</td>\n",
       "      <td>2</td>\n",
       "      <td>3</td>\n",
       "    </tr>\n",
       "    <tr>\n",
       "      <th>1</th>\n",
       "      <td>4</td>\n",
       "      <td>5</td>\n",
       "      <td>6</td>\n",
       "    </tr>\n",
       "    <tr>\n",
       "      <th>2</th>\n",
       "      <td>7</td>\n",
       "      <td>8</td>\n",
       "      <td>9</td>\n",
       "    </tr>\n",
       "  </tbody>\n",
       "</table>\n",
       "</div>"
      ],
      "text/plain": [
       "   Column1  Column2  Column3\n",
       "0        1        2        3\n",
       "1        4        5        6\n",
       "2        7        8        9"
      ]
     },
     "execution_count": 80,
     "metadata": {},
     "output_type": "execute_result"
    }
   ],
   "source": [
    "# 通过列表创建\n",
    "df = pd.DataFrame([[1, 2, 3], [4, 5, 6], [7, 8, 9]],\n",
    "                  columns=['Column1', 'Column2', 'Column3'])\n",
    "df"
   ]
  },
  {
   "cell_type": "code",
   "execution_count": 84,
   "id": "f7b34500-9035-44ec-bae5-8a1fd1e3407e",
   "metadata": {},
   "outputs": [
    {
     "data": {
      "text/html": [
       "<div>\n",
       "<style scoped>\n",
       "    .dataframe tbody tr th:only-of-type {\n",
       "        vertical-align: middle;\n",
       "    }\n",
       "\n",
       "    .dataframe tbody tr th {\n",
       "        vertical-align: top;\n",
       "    }\n",
       "\n",
       "    .dataframe thead th {\n",
       "        text-align: right;\n",
       "    }\n",
       "</style>\n",
       "<table border=\"1\" class=\"dataframe\">\n",
       "  <thead>\n",
       "    <tr style=\"text-align: right;\">\n",
       "      <th></th>\n",
       "      <th>Name</th>\n",
       "      <th>Age</th>\n",
       "      <th>Gender</th>\n",
       "    </tr>\n",
       "  </thead>\n",
       "  <tbody>\n",
       "    <tr>\n",
       "      <th>0</th>\n",
       "      <td>Alice</td>\n",
       "      <td>12</td>\n",
       "      <td>female</td>\n",
       "    </tr>\n",
       "    <tr>\n",
       "      <th>1</th>\n",
       "      <td>Bob</td>\n",
       "      <td>23</td>\n",
       "      <td>male</td>\n",
       "    </tr>\n",
       "    <tr>\n",
       "      <th>2</th>\n",
       "      <td>Jack</td>\n",
       "      <td>34</td>\n",
       "      <td>male</td>\n",
       "    </tr>\n",
       "  </tbody>\n",
       "</table>\n",
       "</div>"
      ],
      "text/plain": [
       "    Name  Age  Gender\n",
       "0  Alice   12  female\n",
       "1    Bob   23    male\n",
       "2   Jack   34    male"
      ]
     },
     "execution_count": 84,
     "metadata": {},
     "output_type": "execute_result"
    }
   ],
   "source": [
    "# 通过series创建\n",
    "s1 = pd.Series(['Alice', 'Bob', 'Jack'])\n",
    "s2 = pd.Series([12, 23, 34])\n",
    "s3 = pd.Series(['female', 'male', 'male'])\n",
    "df = pd.DataFrame({'Name':s1, 'Age':s2, 'Gender':s3}) # 将series组成一个字典再进行构造\n",
    "df"
   ]
  },
  {
   "cell_type": "code",
   "execution_count": 108,
   "id": "7c9db151-4693-4d8a-8135-6916b9413d76",
   "metadata": {},
   "outputs": [
    {
     "name": "stdout",
     "output_type": "stream",
     "text": [
      "(3, 3)\n",
      "Index(['Name', 'Age', 'Gender'], dtype='object')\n",
      "RangeIndex(start=0, stop=3, step=1)\n",
      "    Name  Age  Gender\n",
      "0  Alice   12  female\n",
      "1    Bob   23    male \n",
      "\n",
      "   Name  Age Gender\n",
      "1   Bob   23   male\n",
      "2  Jack   34   male \n",
      "\n",
      "<class 'pandas.core.frame.DataFrame'>\n",
      "RangeIndex: 3 entries, 0 to 2\n",
      "Data columns (total 3 columns):\n",
      " #   Column  Non-Null Count  Dtype \n",
      "---  ------  --------------  ----- \n",
      " 0   Name    3 non-null      object\n",
      " 1   Age     3 non-null      int64 \n",
      " 2   Gender  3 non-null      object\n",
      "dtypes: int64(1), object(2)\n",
      "memory usage: 204.0+ bytes\n",
      "None \n",
      "\n",
      "count     3.0\n",
      "mean     23.0\n",
      "std      11.0\n",
      "min      12.0\n",
      "25%      17.5\n",
      "50%      23.0\n",
      "75%      28.5\n",
      "max      34.0\n",
      "Name: Age, dtype: float64 \n",
      "\n",
      "23.0 \n",
      "\n",
      "69 \n",
      "\n"
     ]
    }
   ],
   "source": [
    "# DataFrame 的属性和方法\n",
    "print(df.shape)     # 形状\n",
    "print(df.columns)   # 列名\n",
    "print(df.index)     # 索引\n",
    "print(df.head(2),\"\\n\")    # 前2行数据，默认是前 5 行\n",
    "print(df.tail(2),\"\\n\")    # 后2行数据，默认是后 5 行\n",
    "print(df.info(),\"\\n\")    # 数据信息\n",
    "\n",
    "print(df['Age'].describe(),\"\\n\")# 描述统计信息\n",
    "print(df['Age'].mean(),\"\\n\")    # 求平均值\n",
    "print(df['Age'].sum(),\"\\n\")     # 求和"
   ]
  },
  {
   "cell_type": "code",
   "execution_count": 134,
   "id": "04bb0a98-4ef8-436b-ae5d-c7cb8a4faffd",
   "metadata": {},
   "outputs": [
    {
     "name": "stdout",
     "output_type": "stream",
     "text": [
      "0    Alice\n",
      "1      Bob\n",
      "2     Jack\n",
      "Name: Name, dtype: object\n",
      "0    Alice\n",
      "1      Bob\n",
      "2     Jack\n",
      "Name: Name, dtype: object\n",
      "0    Alice\n",
      "1      Bob\n",
      "Name: Name, dtype: object\n",
      "0    12\n",
      "1    23\n",
      "2    34\n",
      "Name: Age, dtype: int64\n",
      "Alice\n"
     ]
    }
   ],
   "source": [
    "#访问元素\n",
    "print(df.Name)\n",
    "print(df['Name'])\n",
    "print(df.loc[:1,'Name']) # 根据名字取列\n",
    "print(df.iloc[:,1]) # 根据索引取列\n",
    "print(df.loc[0, 'Name'])"
   ]
  },
  {
   "cell_type": "code",
   "execution_count": null,
   "id": "ca35e2f6-7aa3-4273-94b8-23df91b789ac",
   "metadata": {},
   "outputs": [],
   "source": []
  }
 ],
 "metadata": {
  "kernelspec": {
   "display_name": "Python 3 (ipykernel)",
   "language": "python",
   "name": "python3"
  },
  "language_info": {
   "codemirror_mode": {
    "name": "ipython",
    "version": 3
   },
   "file_extension": ".py",
   "mimetype": "text/x-python",
   "name": "python",
   "nbconvert_exporter": "python",
   "pygments_lexer": "ipython3",
   "version": "3.12.7"
  }
 },
 "nbformat": 4,
 "nbformat_minor": 5
}
