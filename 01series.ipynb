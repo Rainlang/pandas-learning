{
 "cells": [
  {
   "cell_type": "code",
   "execution_count": 5,
   "id": "a32472e2-c1de-4b87-9faf-e668d392fa13",
   "metadata": {},
   "outputs": [],
   "source": [
    "# series is more like a 1-dimension array\n",
    "import pandas as pd\n",
    "import numpy as np"
   ]
  },
  {
   "cell_type": "code",
   "execution_count": 9,
   "id": "2b4a0613-b336-4a1d-b1ec-28f74adf0542",
   "metadata": {},
   "outputs": [
    {
     "name": "stdout",
     "output_type": "stream",
     "text": [
      "0    1\n",
      "1    2\n",
      "2    3\n",
      "dtype: int64\n"
     ]
    }
   ],
   "source": [
    "# create a Series operation\n",
    "a = [1, 2, 3]\n",
    "Series_a = pd.Series(a)\n",
    "print(Series_a)"
   ]
  },
  {
   "cell_type": "code",
   "execution_count": 23,
   "id": "d21a158c-9ed8-4d3b-95e1-ba90c058f8d4",
   "metadata": {},
   "outputs": [
    {
     "data": {
      "text/plain": [
       "x    Google\n",
       "y     Yahoo\n",
       "z    Github\n",
       "dtype: object"
      ]
     },
     "execution_count": 23,
     "metadata": {},
     "output_type": "execute_result"
    }
   ],
   "source": [
    "# you can set a specific index\n",
    "b = ['Google', 'Yahoo', 'Github']\n",
    "Series_a = pd.Series(b, index=['x', 'y', 'z'])\n",
    "Series_a"
   ]
  },
  {
   "cell_type": "code",
   "execution_count": 25,
   "id": "1e2d2824-fd53-4347-a3cd-d86b6005a79a",
   "metadata": {},
   "outputs": [
    {
     "data": {
      "text/plain": [
       "'Google'"
      ]
     },
     "execution_count": 25,
     "metadata": {},
     "output_type": "execute_result"
    }
   ],
   "source": [
    "Series_a['x']"
   ]
  },
  {
   "cell_type": "code",
   "execution_count": 29,
   "id": "9405e8a2-f198-4343-9f5a-910320bd0d36",
   "metadata": {},
   "outputs": [
    {
     "name": "stdout",
     "output_type": "stream",
     "text": [
      "0    1\n",
      "1    2\n",
      "2    3\n",
      "3    4\n",
      "dtype: int64\n",
      "0    1\n",
      "1    2\n",
      "2    3\n",
      "3    4\n",
      "dtype: int32\n",
      "a    1\n",
      "b    2\n",
      "c    3\n",
      "d    4\n",
      "dtype: int64\n"
     ]
    }
   ],
   "source": [
    "# 使用列表创建 Series\n",
    "s1 = pd.Series([1, 2, 3, 4])\n",
    "\n",
    "# 使用 NumPy 数组创建 Series\n",
    "s2 = pd.Series(np.array([1, 2, 3, 4]))\n",
    "\n",
    "# 使用字典创建 Series\n",
    "s3 = pd.Series({'a': 1, 'b': 2, 'c': 3, 'd': 4})\n",
    "\n",
    "print(s1)\n",
    "print(s2)\n",
    "print(s3)"
   ]
  },
  {
   "cell_type": "code",
   "execution_count": 35,
   "id": "76d1117c-307d-4842-8e78-da3df71a6a13",
   "metadata": {},
   "outputs": [
    {
     "data": {
      "text/plain": [
       "0    2\n",
       "1    4\n",
       "2    6\n",
       "3    8\n",
       "dtype: int32"
      ]
     },
     "execution_count": 35,
     "metadata": {},
     "output_type": "execute_result"
    }
   ],
   "source": [
    "# basic compute\n",
    "rsl = s2*2\n",
    "rsl"
   ]
  },
  {
   "cell_type": "code",
   "execution_count": 43,
   "id": "c3422156-f3b1-4a99-b7dd-e48600eeb732",
   "metadata": {},
   "outputs": [
    {
     "name": "stdout",
     "output_type": "stream",
     "text": [
      "10\n",
      "2.5\n",
      "4\n",
      "1\n",
      "1.2909944487358056\n"
     ]
    }
   ],
   "source": [
    "# basic statistical function\n",
    "print(s1.sum())\n",
    "print(s1.mean())\n",
    "print(s1.max())\n",
    "print(s1.min())\n",
    "print(s1.std())"
   ]
  },
  {
   "cell_type": "code",
   "execution_count": null,
   "id": "e9c58d26-6d3d-44e8-87a5-f05bec3f9ae8",
   "metadata": {},
   "outputs": [],
   "source": [
    "# 属性和方法\n",
    "# 获取索引\n",
    "index = s.index\n",
    "\n",
    "# 获取值数组\n",
    "values = s.values\n",
    "\n",
    "# 获取描述统计信息\n",
    "stats = s.describe()\n",
    "\n",
    "# 获取最大值和最小值的索引\n",
    "max_index = s1.idxmax()\n",
    "min_index = s1.idxmin()\n",
    "\n",
    "# 其他属性和方法\n",
    "print(s1.dtype)   # 数据类型\n",
    "print(s1.shape)   # 形状\n",
    "print(s1.size)    # 元素个数\n",
    "print(s1.head())  # 前几个元素，默认是前 5 个\n",
    "print(s1.tail())  # 后几个元素，默认是后 5 个\n"
   ]
  },
  {
   "cell_type": "code",
   "execution_count": 47,
   "id": "6cb8ad95-b68d-49d7-bdfb-704a3afb41bb",
   "metadata": {},
   "outputs": [
    {
     "data": {
      "text/plain": [
       "array([1, 2, 3, 4], dtype=int64)"
      ]
     },
     "execution_count": 47,
     "metadata": {},
     "output_type": "execute_result"
    }
   ],
   "source": [
    "# 获取值数组\n",
    "values = s1.values\n",
    "values"
   ]
  },
  {
   "cell_type": "code",
   "execution_count": 49,
   "id": "ed378823-ac1d-4d86-ba46-dc6cb6433d14",
   "metadata": {},
   "outputs": [
    {
     "data": {
      "text/plain": [
       "count    4.000000\n",
       "mean     2.500000\n",
       "std      1.290994\n",
       "min      1.000000\n",
       "25%      1.750000\n",
       "50%      2.500000\n",
       "75%      3.250000\n",
       "max      4.000000\n",
       "dtype: float64"
      ]
     },
     "execution_count": 49,
     "metadata": {},
     "output_type": "execute_result"
    }
   ],
   "source": [
    "# 获取描述统计信息\n",
    "stats = s1.describe()\n",
    "stats"
   ]
  },
  {
   "cell_type": "code",
   "execution_count": 53,
   "id": "c8951a26-dae3-4846-a894-59ff897ca8bc",
   "metadata": {},
   "outputs": [
    {
     "name": "stdout",
     "output_type": "stream",
     "text": [
      "3 0\n"
     ]
    }
   ],
   "source": [
    "# 获取最大值和最小值的索引\n",
    "max_index = s1.idxmax()\n",
    "min_index = s1.idxmin()\n",
    "print(max_index,min_index)"
   ]
  },
  {
   "cell_type": "code",
   "execution_count": 57,
   "id": "c0e0fbd9-4e23-4ae5-9cfa-ec740e682d5f",
   "metadata": {},
   "outputs": [
    {
     "name": "stdout",
     "output_type": "stream",
     "text": [
      "int64\n",
      "(4,)\n",
      "4\n",
      "0    1\n",
      "1    2\n",
      "dtype: int64\n",
      "2    3\n",
      "3    4\n",
      "dtype: int64\n"
     ]
    }
   ],
   "source": [
    "# 其他属性和方法\n",
    "print(s1.dtype)   # 数据类型\n",
    "print(s1.shape)   # 形状\n",
    "print(s1.size)    # 元素个数\n",
    "print(s1.head(2))  # 前2个元素，默认是前 5 个\n",
    "print(s1.tail(2))  # 后2个元素，默认是后 5 个"
   ]
  },
  {
   "cell_type": "code",
   "execution_count": 60,
   "id": "3be9752e-d48d-4953-b42a-51d96853e48e",
   "metadata": {},
   "outputs": [
    {
     "name": "stdout",
     "output_type": "stream",
     "text": [
      "0    False\n",
      "1    False\n",
      "2     True\n",
      "3     True\n",
      "dtype: bool\n"
     ]
    }
   ],
   "source": [
    "print(s1 > 2) # return a boolean value"
   ]
  },
  {
   "cell_type": "code",
   "execution_count": null,
   "id": "264ecf98-14fc-47b4-b082-e2d49ade5448",
   "metadata": {},
   "outputs": [],
   "source": []
  }
 ],
 "metadata": {
  "kernelspec": {
   "display_name": "Python 3 (ipykernel)",
   "language": "python",
   "name": "python3"
  },
  "language_info": {
   "codemirror_mode": {
    "name": "ipython",
    "version": 3
   },
   "file_extension": ".py",
   "mimetype": "text/x-python",
   "name": "python",
   "nbconvert_exporter": "python",
   "pygments_lexer": "ipython3",
   "version": "3.12.7"
  }
 },
 "nbformat": 4,
 "nbformat_minor": 5
}
