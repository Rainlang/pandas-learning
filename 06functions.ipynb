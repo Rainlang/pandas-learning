{
 "cells": [
  {
   "cell_type": "markdown",
   "id": "30e9cf16-4d65-4c98-8e32-b26738ff646c",
   "metadata": {},
   "source": [
    "# 常用函数\n",
    "## 读取数据"
   ]
  },
  {
   "cell_type": "code",
   "execution_count": null,
   "id": "f8075f97-98fa-4463-907d-16801fc5311c",
   "metadata": {},
   "outputs": [],
   "source": [
    "import pandas as pd\n",
    "\n",
    "# 从 CSV 文件中读取数据\n",
    "df = pd.read_csv('data.csv')\n",
    "\n",
    "# 从 Excel 文件中读取数据\n",
    "df = pd.read_excel('data.xlsx')\n",
    "\n",
    "# 从 SQL 数据库中读取数据\n",
    "import sqlite3\n",
    "conn = sqlite3.connect('database.db')\n",
    "df = pd.read_sql('SELECT * FROM table_name', conn)\n",
    "\n",
    "# 从 JSON 字符串中读取数据\n",
    "json_string = '{\"name\": \"John\", \"age\": 30, \"city\": \"New York\"}'\n",
    "df = pd.read_json(json_string)\n",
    "\n",
    "# 从 HTML 页面中读取数据\n",
    "url = 'https://www.runoob.com'\n",
    "dfs = pd.read_html(url)\n",
    "df = dfs[0] # 选择第一个数据框"
   ]
  },
  {
   "cell_type": "markdown",
   "id": "1da28aed-f1da-4556-9490-7622bdf37023",
   "metadata": {},
   "source": [
    "## 查看数据"
   ]
  },
  {
   "cell_type": "code",
   "execution_count": null,
   "id": "c20cd7d2-6e3e-4a26-a356-f724e1adea94",
   "metadata": {},
   "outputs": [],
   "source": [
    "# 显示前五行数据\n",
    "df.head()\n",
    "\n",
    "# 显示后五行数据\n",
    "df.tail()\n",
    "\n",
    "# 显示数据信息\n",
    "df.info()\n",
    "\n",
    "# 显示基本统计信息\n",
    "df.describe() # 显示数据的基本统计信息，包括均值、方差、最大值、最小值等；\n",
    "\n",
    "# 显示数据的行数和列数\n",
    "df.shape"
   ]
  },
  {
   "cell_type": "markdown",
   "id": "16bb79e8-1ecd-4fc4-816b-c6d493aa8713",
   "metadata": {},
   "source": [
    "实例"
   ]
  },
  {
   "cell_type": "code",
   "execution_count": 7,
   "id": "308dad25-5744-4c81-971a-8eb95c93cc59",
   "metadata": {},
   "outputs": [
    {
     "name": "stdout",
     "output_type": "stream",
     "text": [
      "     name  likes                     url\n",
      "0  Google     25  https://www.google.com\n",
      "1  Runoob     30  https://www.runoob.com\n",
      "     name  likes                     url\n",
      "2  Taobao     35  https://www.taobao.com\n",
      "       likes\n",
      "count    3.0\n",
      "mean    30.0\n",
      "std      5.0\n",
      "min     25.0\n",
      "25%     27.5\n",
      "50%     30.0\n",
      "75%     32.5\n",
      "max     35.0\n"
     ]
    }
   ],
   "source": [
    "import pandas as pd\n",
    "\n",
    "data = [\n",
    "    {\"name\": \"Google\", \"likes\": 25, \"url\": \"https://www.google.com\"},\n",
    "    {\"name\": \"Runoob\", \"likes\": 30, \"url\": \"https://www.runoob.com\"},\n",
    "    {\"name\": \"Taobao\", \"likes\": 35, \"url\": \"https://www.taobao.com\"}\n",
    "]\n",
    "\n",
    "df = pd.DataFrame(data)\n",
    "# 显示前两行数据\n",
    "print(df.head(2))\n",
    "# 显示前最后一行数据\n",
    "print(df.tail(1))\n",
    "print(df.describe())"
   ]
  },
  {
   "cell_type": "markdown",
   "id": "1c9b4d37-ac5c-44c8-b86d-60fc89ebe146",
   "metadata": {},
   "source": [
    "## 数据清洗"
   ]
  },
  {
   "cell_type": "code",
   "execution_count": null,
   "id": "6b0f03d4-997a-46bb-8048-8df6a0ae99e8",
   "metadata": {},
   "outputs": [],
   "source": [
    "# 删除包含缺失值的行或列\n",
    "df.dropna()\n",
    "\n",
    "# 将缺失值替换为指定的值\n",
    "df.fillna(0)\n",
    "\n",
    "# 将指定值替换为新值\n",
    "df.replace('old_value', 'new_value')\n",
    "\n",
    "# 检查是否有重复的数据\n",
    "df.duplicated()\n",
    "\n",
    "# 删除重复的数据\n",
    "df.drop_duplicates()"
   ]
  },
  {
   "cell_type": "markdown",
   "id": "fb7b6579-b24b-4c7b-bac2-779d99d98d62",
   "metadata": {},
   "source": [
    "## 数据选择切片 https://www.runoob.com/pandas/pandas-functions.html"
   ]
  },
  {
   "cell_type": "code",
   "execution_count": null,
   "id": "68956f4d-d4dd-4c57-93ab-cd8860e39112",
   "metadata": {},
   "outputs": [],
   "source": [
    "# 选择指定的列\n",
    "df['column_name']\n",
    "\n",
    "# 通过标签选择数据\n",
    "df.loc[row_index, column_name]\n",
    "\n",
    "# 通过位置选择数据\n",
    "df.iloc[row_index, column_index]\n",
    "\n",
    "# 通过标签或位置选择数据\n",
    "df.ix[row_index, column_name]\n",
    "\n",
    "# 选择指定的列\n",
    "df.filter(items=['column_name1', 'column_name2'])\n",
    "\n",
    "# 选择列名匹配正则表达式的列\n",
    "df.filter(regex='regex')\n",
    "\n",
    "# 随机选择 n 行数据\n",
    "df.sample(n=5)"
   ]
  },
  {
   "cell_type": "markdown",
   "id": "ba80fe1d-5b14-4d5b-b2a2-44fc95f384e7",
   "metadata": {},
   "source": [
    "## 数据排序"
   ]
  },
  {
   "cell_type": "code",
   "execution_count": null,
   "id": "4c171a44-26b3-4f16-bee6-700e7882cd46",
   "metadata": {},
   "outputs": [],
   "source": [
    "# 按照指定列的值排序\n",
    "df.sort_values('column_name')\n",
    "\n",
    "# 按照多个列的值排序\n",
    "df.sort_values(['column_name1', 'column_name2'], ascending=[True, False])\n",
    "\n",
    "# 按照索引排序\n",
    "df.sort_index()"
   ]
  },
  {
   "cell_type": "markdown",
   "id": "65538470-4936-43b2-ac9f-bbf0cf7f4b3d",
   "metadata": {},
   "source": [
    "## 数据分组与聚合"
   ]
  },
  {
   "cell_type": "code",
   "execution_count": null,
   "id": "c6573baa-c41c-4f4a-a39b-d91e288a478d",
   "metadata": {},
   "outputs": [],
   "source": [
    "# 按照指定列进行分组\n",
    "df.groupby('column_name')\n",
    "\n",
    "# 对分组后的数据进行聚合操作\n",
    "df.aggregate('function_name')\n",
    "\n",
    "# 生成透视表\n",
    "df.pivot_table(values='value', index='index_column', columns='column_name', aggfunc='function_name')"
   ]
  },
  {
   "cell_type": "markdown",
   "id": "e50a5276-d9ac-4291-98a0-43ed6adfa1ab",
   "metadata": {},
   "source": [
    "## 数据合并"
   ]
  },
  {
   "cell_type": "code",
   "execution_count": null,
   "id": "4ddc17d0-596a-4dd8-8ac9-eb23d9f543c7",
   "metadata": {},
   "outputs": [],
   "source": [
    "# 将多个数据框按照行或列进行合并\n",
    "df = pd.concat([df1, df2])\n",
    "\n",
    "# 按照指定列将两个数据框进行合并\n",
    "df = pd.merge(df1, df2, on='column_name')"
   ]
  },
  {
   "cell_type": "markdown",
   "id": "b476804f-ab95-40d8-8f4f-31162dabdc87",
   "metadata": {},
   "source": [
    "## 数据统计和描述\n",
    "```\n",
    "df.describe()\t计算基本统计信息，如均值、标准差、最小值、最大值等。\n",
    "df.mean()\t计算每列的平均值。\n",
    "df.median()\t计算每列的中位数。\n",
    "df.mode()\t计算每列的众数。\n",
    "df.count()\t计算每列非缺失值的数量。\n",
    "```\n"
   ]
  },
  {
   "cell_type": "markdown",
   "id": "9bb24081-2eb4-4505-b3cd-1eceef8bb4f4",
   "metadata": {},
   "source": [
    "## 实例"
   ]
  },
  {
   "cell_type": "code",
   "execution_count": 100,
   "id": "f2408fd4-ab59-4a5c-916b-33f7f9d071ac",
   "metadata": {},
   "outputs": [
    {
     "name": "stdout",
     "output_type": "stream",
     "text": [
      "      name   age  gender  score\n",
      "0    Alice  25.0  female   80.0\n",
      "1      Bob   NaN    male   90.0\n",
      "2  Charlie  30.0    male    NaN\n",
      "3    David  35.0    male   70.0\n",
      "用指定的值填充缺失值\n",
      "       name   age  gender  score\n",
      "0    Alice  25.0  female   80.0\n",
      "1      Bob   0.0    male   90.0\n",
      "2  Charlie  30.0    male    0.0\n",
      "3    David  35.0    male   70.0\n",
      "重命名列名\n",
      "         姓名    年龄      性别    成绩\n",
      "0    Alice  25.0  female  80.0\n",
      "1      Bob   0.0    male  90.0\n",
      "2  Charlie  30.0    male   0.0\n",
      "3    David  35.0    male  70.0\n",
      "按成绩排序\n",
      "         姓名    年龄      性别    成绩\n",
      "1      Bob   0.0    male  90.0\n",
      "0    Alice  25.0  female  80.0\n",
      "3    David  35.0    male  70.0\n",
      "2  Charlie  30.0    male   0.0\n",
      "按性别分组并计算平均年龄和成绩\n",
      "                年龄         成绩\n",
      "性别                          \n",
      "female  25.000000  80.000000\n",
      "male    21.666667  53.333333\n",
      "选择成绩大于等于90的行，并只保留姓名和成绩两列\n",
      "     姓名    成绩\n",
      "1  Bob  90.0\n",
      "统计数据\n",
      "stats:\n",
      "         成绩\n",
      "count   1.0\n",
      "mean   90.0\n",
      "std     NaN\n",
      "min    90.0\n",
      "25%    90.0\n",
      "50%    90.0\n",
      "75%    90.0\n",
      "max    90.0\n",
      "\n",
      "mean:90.0\n",
      "\n",
      "median:90.0\n",
      "\n",
      "mode:\n",
      "    姓名    成绩\n",
      "0  Bob  90.0\n",
      "\n",
      "count:\n",
      "姓名    1\n",
      "成绩    1\n",
      "dtype: int64\n"
     ]
    }
   ],
   "source": [
    "import pandas as pd\n",
    "\n",
    "# 读取 JSON 数据\n",
    "df = pd.read_json('data.json')\n",
    "print(df)\n",
    "\n",
    "# 删除缺失值\n",
    "# df = df.dropna()\n",
    "# print(df)\n",
    "\n",
    "# 用指定的值填充缺失值\n",
    "df = df.fillna({'age':0, 'score':0})\n",
    "print(\"用指定的值填充缺失值\\n\", df)\n",
    "\n",
    "# 重命名列名\n",
    "df = df.rename(columns={'name':'姓名', 'age':'年龄', 'gender': '性别', 'score':'成绩'})\n",
    "print(\"重命名列名\\n\", df)\n",
    "\n",
    "# 按成绩排序\n",
    "df = df.sort_values(by='成绩', ascending=False)\n",
    "print(\"按成绩排序\\n\", df)\n",
    "\n",
    "# 按性别分组并计算平均年龄和成绩\n",
    "grouped = df.groupby('性别').agg({'年龄':'mean', '成绩':'mean'})\n",
    "print(\"按性别分组并计算平均年龄和成绩\\n\", grouped)\n",
    "\n",
    "# 选择成绩大于等于90的行，并只保留姓名和成绩两列\n",
    "df = df.loc[df['成绩'] >= 90, ['姓名', '成绩']]\n",
    "print(\"选择成绩大于等于90的行，并只保留姓名和成绩两列\\n\", df)\n",
    "\n",
    "# 计算每列的基本统计信息\n",
    "stats = df.describe()\n",
    "\n",
    "# 计算每列的平均值\n",
    "means = df['成绩'].mean()\n",
    "\n",
    "# 计算每列的中位数\n",
    "medians = df['成绩'].median()\n",
    "\n",
    "# 计算每列的众数\n",
    "modes = df.mode()\n",
    "\n",
    "# 计算每列非缺失值的数量\n",
    "counts = df.count()\n",
    "print('统计数据')\n",
    "print(f'stats:\\n{stats}\\n')\n",
    "print(f'mean:{means}\\n')\n",
    "print(f'median:{medians}\\n')\n",
    "print(f'mode:\\n{modes}\\n')\n",
    "print(f'count:\\n{counts}')"
   ]
  },
  {
   "cell_type": "code",
   "execution_count": null,
   "id": "3f396846-5860-4c62-9a15-5f01f513bdec",
   "metadata": {},
   "outputs": [],
   "source": []
  }
 ],
 "metadata": {
  "kernelspec": {
   "display_name": "Python 3 (ipykernel)",
   "language": "python",
   "name": "python3"
  },
  "language_info": {
   "codemirror_mode": {
    "name": "ipython",
    "version": 3
   },
   "file_extension": ".py",
   "mimetype": "text/x-python",
   "name": "python",
   "nbconvert_exporter": "python",
   "pygments_lexer": "ipython3",
   "version": "3.12.7"
  }
 },
 "nbformat": 4,
 "nbformat_minor": 5
}
