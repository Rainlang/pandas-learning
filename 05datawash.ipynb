{
 "cells": [
  {
   "cell_type": "markdown",
   "id": "e3027b23-c2fa-4b2a-a661-8513de0e8fa0",
   "metadata": {},
   "source": [
    "# 清洗数据"
   ]
  },
  {
   "cell_type": "code",
   "execution_count": 3,
   "id": "2fd0a625-5677-4843-8414-9bb6f295bbfe",
   "metadata": {},
   "outputs": [],
   "source": [
    "import pandas as pd\n",
    "# DataFrame.dropna(axis=0, how='any', thresh=None, subset=None, inplace=False) 删除空字段"
   ]
  },
  {
   "cell_type": "markdown",
   "id": "9072fa10-f225-4269-ae0f-c20c5fcb98a7",
   "metadata": {},
   "source": [
    "## 清洗空值"
   ]
  },
  {
   "cell_type": "code",
   "execution_count": 9,
   "id": "47c3440e-b4fb-4af5-abc6-c357c9a5c68c",
   "metadata": {},
   "outputs": [
    {
     "name": "stdout",
     "output_type": "stream",
     "text": [
      "0      3\n",
      "1      3\n",
      "2    NaN\n",
      "3      1\n",
      "4      3\n",
      "5    NaN\n",
      "6      2\n",
      "7      1\n",
      "8     na\n",
      "Name: NUM_BEDROOMS, dtype: object \n",
      "\n",
      "0    False\n",
      "1    False\n",
      "2     True\n",
      "3    False\n",
      "4    False\n",
      "5     True\n",
      "6    False\n",
      "7    False\n",
      "8    False\n",
      "Name: NUM_BEDROOMS, dtype: bool\n"
     ]
    }
   ],
   "source": [
    "df = pd.read_csv('property-data.csv')\n",
    "print(df['NUM_BEDROOMS'],\"\\n\")\n",
    "print(df['NUM_BEDROOMS'].isnull())"
   ]
  },
  {
   "cell_type": "code",
   "execution_count": 14,
   "id": "6ee6fa12-4d6e-44e3-acda-e55260de3393",
   "metadata": {},
   "outputs": [
    {
     "name": "stdout",
     "output_type": "stream",
     "text": [
      "0    3.0\n",
      "1    3.0\n",
      "2    NaN\n",
      "3    1.0\n",
      "4    3.0\n",
      "5    NaN\n",
      "6    2.0\n",
      "7    1.0\n",
      "8    NaN\n",
      "Name: NUM_BEDROOMS, dtype: float64 \n",
      "\n",
      "0    False\n",
      "1    False\n",
      "2     True\n",
      "3    False\n",
      "4    False\n",
      "5     True\n",
      "6    False\n",
      "7    False\n",
      "8     True\n",
      "Name: NUM_BEDROOMS, dtype: bool\n"
     ]
    }
   ],
   "source": [
    "# 以上把n/a和NA当作空，但是na没有，不符要求，可以指定数据类型\n",
    "missing_values = ['na', 'n/a', '--']\n",
    "df = pd.read_csv('property-data.csv', na_values = missing_values)\n",
    "print(df['NUM_BEDROOMS'],\"\\n\")\n",
    "print(df['NUM_BEDROOMS'].isnull())"
   ]
  },
  {
   "cell_type": "code",
   "execution_count": 20,
   "id": "7054fd7e-0d64-4fb9-a15d-e8eaa61bb0ac",
   "metadata": {},
   "outputs": [
    {
     "name": "stdout",
     "output_type": "stream",
     "text": [
      "           PID  ST_NUM    ST_NAME OWN_OCCUPIED NUM_BEDROOMS NUM_BATH SQ_FT\n",
      "0  100001000.0   104.0     PUTNAM            Y            3        1  1000\n",
      "1  100002000.0   197.0  LEXINGTON            N            3      1.5    --\n",
      "8  100009000.0   215.0    TREMONT            Y           na        2  1800\n"
     ]
    }
   ],
   "source": [
    "# 删除空数据的行\n",
    "df = pd.read_csv('property-data.csv')\n",
    "new_df = df.dropna() # 要修改原数据，则参数inplace=True\n",
    "print(new_df.to_string())"
   ]
  },
  {
   "cell_type": "code",
   "execution_count": 26,
   "id": "e3fbd7e6-8748-4c93-a353-35fbba64ef18",
   "metadata": {},
   "outputs": [
    {
     "name": "stdout",
     "output_type": "stream",
     "text": [
      "           PID  ST_NUM    ST_NAME OWN_OCCUPIED NUM_BEDROOMS NUM_BATH SQ_FT\n",
      "0  100001000.0   104.0     PUTNAM            Y            3        1  1000\n",
      "1  100002000.0   197.0  LEXINGTON            N            3      1.5    --\n",
      "3  100004000.0   201.0   BERKELEY           12            1      NaN   700\n",
      "4          NaN   203.0   BERKELEY            Y            3        2  1600\n",
      "5  100006000.0   207.0   BERKELEY            Y          NaN        1   800\n",
      "7  100008000.0   213.0    TREMONT            Y            1        1   NaN\n",
      "8  100009000.0   215.0    TREMONT            Y           na        2  1800\n"
     ]
    }
   ],
   "source": [
    "# 删除指定列有空值的行\n",
    "df.dropna(subset = ['ST_NUM'], inplace=True)\n",
    "print(df.to_string())"
   ]
  },
  {
   "cell_type": "code",
   "execution_count": 28,
   "id": "6e97ccd7-d02d-4106-bd9a-9413ba6378ae",
   "metadata": {},
   "outputs": [
    {
     "name": "stdout",
     "output_type": "stream",
     "text": [
      "           PID   ST_NUM     ST_NAME OWN_OCCUPIED NUM_BEDROOMS NUM_BATH  SQ_FT\n",
      "0  100001000.0    104.0      PUTNAM            Y            3        1   1000\n",
      "1  100002000.0    197.0   LEXINGTON            N            3      1.5     --\n",
      "2  100003000.0  12345.0   LEXINGTON            N        12345        1    850\n",
      "3  100004000.0    201.0    BERKELEY           12            1    12345    700\n",
      "4      12345.0    203.0    BERKELEY            Y            3        2   1600\n",
      "5  100006000.0    207.0    BERKELEY            Y        12345        1    800\n",
      "6  100007000.0  12345.0  WASHINGTON        12345            2   HURLEY    950\n",
      "7  100008000.0    213.0     TREMONT            Y            1        1  12345\n",
      "8  100009000.0    215.0     TREMONT            Y           na        2   1800\n"
     ]
    }
   ],
   "source": [
    "# fillna()替换空字段\n",
    "df = pd.read_csv('property-data.csv')\n",
    "df.fillna(12345, inplace=True)\n",
    "print(df.to_string())"
   ]
  },
  {
   "cell_type": "code",
   "execution_count": 32,
   "id": "16773c70-7603-4617-9714-0bcc5821200a",
   "metadata": {},
   "outputs": [
    {
     "name": "stdout",
     "output_type": "stream",
     "text": [
      "           PID  ST_NUM     ST_NAME OWN_OCCUPIED NUM_BEDROOMS NUM_BATH SQ_FT\n",
      "0  100001000.0   104.0      PUTNAM            Y            3        1  1000\n",
      "1  100002000.0   197.0   LEXINGTON            N            3      1.5    --\n",
      "2  100003000.0     NaN   LEXINGTON            N          NaN        1   850\n",
      "3  100004000.0   201.0    BERKELEY           12            1      NaN   700\n",
      "4      12345.0   203.0    BERKELEY            Y            3        2  1600\n",
      "5  100006000.0   207.0    BERKELEY            Y          NaN        1   800\n",
      "6  100007000.0     NaN  WASHINGTON          NaN            2   HURLEY   950\n",
      "7  100008000.0   213.0     TREMONT            Y            1        1   NaN\n",
      "8  100009000.0   215.0     TREMONT            Y           na        2  1800\n"
     ]
    },
    {
     "name": "stderr",
     "output_type": "stream",
     "text": [
      "C:\\Users\\l22400166\\AppData\\Local\\Temp\\ipykernel_508\\3133968139.py:3: FutureWarning: A value is trying to be set on a copy of a DataFrame or Series through chained assignment using an inplace method.\n",
      "The behavior will change in pandas 3.0. This inplace method will never work because the intermediate object on which we are setting values always behaves as a copy.\n",
      "\n",
      "For example, when doing 'df[col].method(value, inplace=True)', try using 'df.method({col: value}, inplace=True)' or df[col] = df[col].method(value) instead, to perform the operation inplace on the original object.\n",
      "\n",
      "\n",
      "  df['PID'].fillna(12345, inplace=True)\n"
     ]
    }
   ],
   "source": [
    "# 指定某列替换空字段\n",
    "df = pd.read_csv('property-data.csv')\n",
    "df['PID'].fillna(12345, inplace=True)\n",
    "print(df.to_string())"
   ]
  },
  {
   "cell_type": "code",
   "execution_count": 40,
   "id": "efc50361-b253-465d-8fee-47413d12b4dd",
   "metadata": {},
   "outputs": [
    {
     "name": "stdout",
     "output_type": "stream",
     "text": [
      "           PID      ST_NUM     ST_NAME OWN_OCCUPIED NUM_BEDROOMS NUM_BATH SQ_FT\n",
      "0  100001000.0  104.000000      PUTNAM            Y            3        1  1000\n",
      "1  100002000.0  197.000000   LEXINGTON            N            3      1.5    --\n",
      "2  100003000.0  191.428571   LEXINGTON            N          NaN        1   850\n",
      "3  100004000.0  201.000000    BERKELEY           12            1      NaN   700\n",
      "4          NaN  203.000000    BERKELEY            Y            3        2  1600\n",
      "5  100006000.0  207.000000    BERKELEY            Y          NaN        1   800\n",
      "6  100007000.0  191.428571  WASHINGTON          NaN            2   HURLEY   950\n",
      "7  100008000.0  213.000000     TREMONT            Y            1        1   NaN\n",
      "8  100009000.0  215.000000     TREMONT            Y           na        2  1800\n"
     ]
    },
    {
     "name": "stderr",
     "output_type": "stream",
     "text": [
      "C:\\Users\\l22400166\\AppData\\Local\\Temp\\ipykernel_508\\4203175972.py:4: FutureWarning: A value is trying to be set on a copy of a DataFrame or Series through chained assignment using an inplace method.\n",
      "The behavior will change in pandas 3.0. This inplace method will never work because the intermediate object on which we are setting values always behaves as a copy.\n",
      "\n",
      "For example, when doing 'df[col].method(value, inplace=True)', try using 'df.method({col: value}, inplace=True)' or df[col] = df[col].method(value) instead, to perform the operation inplace on the original object.\n",
      "\n",
      "\n",
      "  df['ST_NUM'].fillna(x, inplace=True)\n"
     ]
    }
   ],
   "source": [
    "# 常用平均数、中位数、众数填补空值\n",
    "df = pd.read_csv('property-data.csv')\n",
    "x = df['ST_NUM'].mean() # 平均数\n",
    "df['ST_NUM'].fillna(x, inplace=True)\n",
    "print(df.to_string())"
   ]
  },
  {
   "cell_type": "code",
   "execution_count": 46,
   "id": "884a4879-6468-43ba-9822-152e86d8bed4",
   "metadata": {},
   "outputs": [
    {
     "name": "stdout",
     "output_type": "stream",
     "text": [
      "           PID  ST_NUM     ST_NAME OWN_OCCUPIED NUM_BEDROOMS NUM_BATH SQ_FT\n",
      "0  100001000.0   104.0      PUTNAM            Y            3        1  1000\n",
      "1  100002000.0   197.0   LEXINGTON            N            3      1.5    --\n",
      "2  100003000.0   203.0   LEXINGTON            N          NaN        1   850\n",
      "3  100004000.0   201.0    BERKELEY           12            1      NaN   700\n",
      "4          NaN   203.0    BERKELEY            Y            3        2  1600\n",
      "5  100006000.0   207.0    BERKELEY            Y          NaN        1   800\n",
      "6  100007000.0   203.0  WASHINGTON          NaN            2   HURLEY   950\n",
      "7  100008000.0   213.0     TREMONT            Y            1        1   NaN\n",
      "8  100009000.0   215.0     TREMONT            Y           na        2  1800\n"
     ]
    },
    {
     "name": "stderr",
     "output_type": "stream",
     "text": [
      "C:\\Users\\l22400166\\AppData\\Local\\Temp\\ipykernel_508\\627758711.py:3: FutureWarning: A value is trying to be set on a copy of a DataFrame or Series through chained assignment using an inplace method.\n",
      "The behavior will change in pandas 3.0. This inplace method will never work because the intermediate object on which we are setting values always behaves as a copy.\n",
      "\n",
      "For example, when doing 'df[col].method(value, inplace=True)', try using 'df.method({col: value}, inplace=True)' or df[col] = df[col].method(value) instead, to perform the operation inplace on the original object.\n",
      "\n",
      "\n",
      "  df['ST_NUM'].fillna(x, inplace=True)\n"
     ]
    }
   ],
   "source": [
    "df = pd.read_csv('property-data.csv')\n",
    "x = df['ST_NUM'].median() # 中位数\n",
    "df['ST_NUM'].fillna(x, inplace=True)\n",
    "print(df.to_string())"
   ]
  },
  {
   "cell_type": "code",
   "execution_count": 48,
   "id": "fb63e1c3-911c-417d-89a8-041bd7037229",
   "metadata": {},
   "outputs": [
    {
     "name": "stdout",
     "output_type": "stream",
     "text": [
      "           PID  ST_NUM     ST_NAME OWN_OCCUPIED NUM_BEDROOMS NUM_BATH SQ_FT\n",
      "0  100001000.0   104.0      PUTNAM            Y            3        1  1000\n",
      "1  100002000.0   197.0   LEXINGTON            N            3      1.5    --\n",
      "2  100003000.0   201.0   LEXINGTON            N          NaN        1   850\n",
      "3  100004000.0   201.0    BERKELEY           12            1      NaN   700\n",
      "4          NaN   203.0    BERKELEY            Y            3        2  1600\n",
      "5  100006000.0   207.0    BERKELEY            Y          NaN        1   800\n",
      "6  100007000.0   215.0  WASHINGTON          NaN            2   HURLEY   950\n",
      "7  100008000.0   213.0     TREMONT            Y            1        1   NaN\n",
      "8  100009000.0   215.0     TREMONT            Y           na        2  1800\n"
     ]
    },
    {
     "name": "stderr",
     "output_type": "stream",
     "text": [
      "C:\\Users\\l22400166\\AppData\\Local\\Temp\\ipykernel_508\\2881493662.py:3: FutureWarning: A value is trying to be set on a copy of a DataFrame or Series through chained assignment using an inplace method.\n",
      "The behavior will change in pandas 3.0. This inplace method will never work because the intermediate object on which we are setting values always behaves as a copy.\n",
      "\n",
      "For example, when doing 'df[col].method(value, inplace=True)', try using 'df.method({col: value}, inplace=True)' or df[col] = df[col].method(value) instead, to perform the operation inplace on the original object.\n",
      "\n",
      "\n",
      "  df['ST_NUM'].fillna(x, inplace=True)\n"
     ]
    }
   ],
   "source": [
    "df = pd.read_csv('property-data.csv')\n",
    "x = df['ST_NUM'].mode() # 众数\n",
    "df['ST_NUM'].fillna(x, inplace=True)\n",
    "print(df.to_string())"
   ]
  },
  {
   "cell_type": "markdown",
   "id": "28055b2d-bdb2-42d9-8496-1c88b4b738f5",
   "metadata": {},
   "source": [
    "## 清洗错误数据"
   ]
  },
  {
   "cell_type": "code",
   "execution_count": 56,
   "id": "1f41eeab-15c3-4c4a-9641-8dc26d449618",
   "metadata": {},
   "outputs": [
    {
     "name": "stdout",
     "output_type": "stream",
     "text": [
      "         Date  Duration\n",
      "d1 2020-12-20        40\n",
      "d2 2021-12-21        50\n",
      "d3 2020-12-12        45\n"
     ]
    }
   ],
   "source": [
    "data = {\n",
    "    'Date': ['2020/12/20', '2021/12/21', '20201212'],\n",
    "    'Duration': [40, 50, 45]\n",
    "}\n",
    "df = pd.DataFrame(data, index = ['d1', 'd2', 'd3'])\n",
    "df['Date'] = pd.to_datetime(df['Date'], format='mixed')\n",
    "print(df.to_string())"
   ]
  },
  {
   "cell_type": "code",
   "execution_count": 60,
   "id": "94625b8e-f59e-47c4-b1cd-1addd4cafae1",
   "metadata": {},
   "outputs": [
    {
     "name": "stdout",
     "output_type": "stream",
     "text": [
      "     name  age\n",
      "0  Google   50\n",
      "1  Runoob   40\n",
      "2  Taobao   30\n"
     ]
    }
   ],
   "source": [
    "person = {\n",
    "    \"name\": ['Google', 'Runoob' , 'Taobao'],\n",
    "    \"age\": [50, 40, 12345]    # 12345 年龄数据是错误的\n",
    "}\n",
    "df = pd.DataFrame(person)\n",
    "df.loc[2, 'age'] = 30\n",
    "print(df.to_string())"
   ]
  },
  {
   "cell_type": "code",
   "execution_count": 62,
   "id": "cdbddb63-b334-45f7-9d32-dd91faefbf44",
   "metadata": {},
   "outputs": [
    {
     "name": "stdout",
     "output_type": "stream",
     "text": [
      "     name  age\n",
      "0  Google   50\n",
      "1  Runoob  120\n",
      "2  Taobao  120\n"
     ]
    }
   ],
   "source": [
    "# 将age大于120的设为120\n",
    "person = {\n",
    "    \"name\": ['Google', 'Runoob' , 'Taobao'],\n",
    "    \"age\": [50, 200, 12345]    # 12345 年龄数据是错误的\n",
    "}\n",
    "df = pd.DataFrame(person)\n",
    "for x in df.index:\n",
    "    if df.loc[x, 'age'] > 120:\n",
    "        df.loc[x, 'age'] = 120\n",
    "print(df.to_string())"
   ]
  },
  {
   "cell_type": "code",
   "execution_count": 64,
   "id": "488a27f4-8175-4cd6-b781-1f01ea18c063",
   "metadata": {},
   "outputs": [
    {
     "name": "stdout",
     "output_type": "stream",
     "text": [
      "     name  age\n",
      "0  Google   50\n"
     ]
    }
   ],
   "source": [
    "# 将age大于120的行删除\n",
    "person = {\n",
    "    \"name\": ['Google', 'Runoob' , 'Taobao'],\n",
    "    \"age\": [50, 200, 12345]    # 12345 年龄数据是错误的\n",
    "}\n",
    "df = pd.DataFrame(person)\n",
    "for x in df.index:\n",
    "    if df.loc[x, 'age'] > 120:\n",
    "        df.drop(x, inplace=True)\n",
    "print(df.to_string())"
   ]
  },
  {
   "cell_type": "markdown",
   "id": "b589fbef-526e-4f2a-801a-36e03298e4f8",
   "metadata": {},
   "source": [
    "## 清洗重复数据"
   ]
  },
  {
   "cell_type": "code",
   "execution_count": 69,
   "id": "ef68380f-37ba-4b96-9c70-27ba75638eba",
   "metadata": {},
   "outputs": [
    {
     "name": "stdout",
     "output_type": "stream",
     "text": [
      "0    False\n",
      "1    False\n",
      "2     True\n",
      "3    False\n",
      "dtype: bool\n"
     ]
    }
   ],
   "source": [
    "person = {\n",
    "    \"name\": ['Google', 'Runoob' , 'Runoob' , 'Taobao'],\n",
    "    \"age\": [50, 200, 200, 12345]    \n",
    "}\n",
    "df = pd.DataFrame(person)\n",
    "print(df.duplicated())"
   ]
  },
  {
   "cell_type": "code",
   "execution_count": 71,
   "id": "34053df8-962f-4958-817a-75a4777ad8df",
   "metadata": {},
   "outputs": [
    {
     "name": "stdout",
     "output_type": "stream",
     "text": [
      "     name    age\n",
      "0  Google     50\n",
      "1  Runoob    200\n",
      "2  Runoob    200\n",
      "3  Taobao  12345 \n",
      "\n",
      "     name    age\n",
      "0  Google     50\n",
      "1  Runoob    200\n",
      "3  Taobao  12345\n"
     ]
    }
   ],
   "source": [
    "print(df.to_string(), \"\\n\")\n",
    "df.drop_duplicates(inplace=True)\n",
    "print(df.to_string())"
   ]
  },
  {
   "cell_type": "code",
   "execution_count": null,
   "id": "dbe09243-bb8e-446a-bc80-3db226116797",
   "metadata": {},
   "outputs": [],
   "source": []
  }
 ],
 "metadata": {
  "kernelspec": {
   "display_name": "Python 3 (ipykernel)",
   "language": "python",
   "name": "python3"
  },
  "language_info": {
   "codemirror_mode": {
    "name": "ipython",
    "version": 3
   },
   "file_extension": ".py",
   "mimetype": "text/x-python",
   "name": "python",
   "nbconvert_exporter": "python",
   "pygments_lexer": "ipython3",
   "version": "3.12.7"
  }
 },
 "nbformat": 4,
 "nbformat_minor": 5
}
