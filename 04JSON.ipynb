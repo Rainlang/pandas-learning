{
 "cells": [
  {
   "cell_type": "code",
   "execution_count": 1,
   "id": "f47170f2-e683-4fcd-a27b-b0156ca0d8ad",
   "metadata": {},
   "outputs": [],
   "source": [
    "import pandas as pd"
   ]
  },
  {
   "cell_type": "code",
   "execution_count": 15,
   "id": "888eba53-5818-432b-bfd6-17f76fc9da03",
   "metadata": {},
   "outputs": [
    {
     "name": "stdout",
     "output_type": "stream",
     "text": [
      "     id    name             url  likes\n",
      "0  A001    菜鸟教程  www.runoob.com     61\n",
      "1  A002  Google  www.google.com    124\n",
      "2  A003      淘宝  www.taobao.com     45\n",
      "     id    name             url  likes\n",
      "0  A001    菜鸟教程  www.runoob.com     61\n",
      "1  A002  Google  www.google.com    124\n",
      "2  A003      淘宝  www.taobao.com     45\n"
     ]
    }
   ],
   "source": [
    "# 读json文件\n",
    "df = pd.read_json('site.json')\n",
    "print(df.to_string())\n",
    "print(df)"
   ]
  },
  {
   "cell_type": "code",
   "execution_count": 13,
   "id": "d934d38a-d29d-4024-9ae4-cc651929c003",
   "metadata": {},
   "outputs": [
    {
     "name": "stdout",
     "output_type": "stream",
     "text": [
      "      col1 col2\n",
      "row1     1    x\n",
      "row2     2    y\n",
      "row3     3    z\n"
     ]
    }
   ],
   "source": [
    "import pandas as pd\n",
    "\n",
    "\n",
    "# 字典格式的 JSON                                                                                              \n",
    "s = {\n",
    "    \"col1\":{\"row1\":1,\"row2\":2,\"row3\":3},\n",
    "    \"col2\":{\"row1\":\"x\",\"row2\":\"y\",\"row3\":\"z\"}\n",
    "}\n",
    "\n",
    "# 读取 JSON 转为 DataFrame                                                                                           \n",
    "df = pd.DataFrame(s)\n",
    "print(df)"
   ]
  },
  {
   "cell_type": "code",
   "execution_count": null,
   "id": "0b0d21d1-4cf3-4c74-bd21-5c4fec45c64c",
   "metadata": {},
   "outputs": [],
   "source": []
  }
 ],
 "metadata": {
  "kernelspec": {
   "display_name": "Python 3 (ipykernel)",
   "language": "python",
   "name": "python3"
  },
  "language_info": {
   "codemirror_mode": {
    "name": "ipython",
    "version": 3
   },
   "file_extension": ".py",
   "mimetype": "text/x-python",
   "name": "python",
   "nbconvert_exporter": "python",
   "pygments_lexer": "ipython3",
   "version": "3.12.7"
  }
 },
 "nbformat": 4,
 "nbformat_minor": 5
}
